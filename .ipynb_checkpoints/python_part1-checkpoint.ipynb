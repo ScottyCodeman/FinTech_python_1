{
 "cells": [
  {
   "cell_type": "code",
   "execution_count": 2,
   "id": "23f9848d-24dc-4df3-88a5-bdbf820b911a",
   "metadata": {},
   "outputs": [],
   "source": []
  },
  {
   "cell_type": "code",
   "execution_count": 13,
   "id": "eb490301-9e20-4c9c-80d2-651702106cea",
   "metadata": {},
   "outputs": [
    {
     "name": "stdout",
     "output_type": "stream",
     "text": [
      "your number is 1\n"
     ]
    }
   ],
   "source": [
    "import random\n",
    "num_list = [1,2,3,4]\n",
    "randnum = random.choice(num_list)\n",
    "print(\"your number is\", randnum)"
   ]
  },
  {
   "cell_type": "code",
   "execution_count": 14,
   "id": "448763e0-c991-4288-9b6d-d241c1f7e741",
   "metadata": {},
   "outputs": [
    {
     "name": "stdin",
     "output_type": "stream",
     "text": [
      "what is 4 times 4? 12\n"
     ]
    }
   ],
   "source": [
    "answer = input(\"what is 4 times 4?\")\n"
   ]
  },
  {
   "cell_type": "code",
   "execution_count": null,
   "id": "0bbd82ce-070a-419a-a99b-e8cff7e02a8f",
   "metadata": {},
   "outputs": [],
   "source": []
  },
  {
   "cell_type": "code",
   "execution_count": null,
   "id": "232232bb-064c-44ac-966b-968d3bba1fc9",
   "metadata": {},
   "outputs": [],
   "source": []
  },
  {
   "cell_type": "code",
   "execution_count": null,
   "id": "b4e0f23c-bb59-40b4-af1d-e37da9068072",
   "metadata": {},
   "outputs": [],
   "source": []
  },
  {
   "cell_type": "code",
   "execution_count": null,
   "id": "dcaf4773-0e70-4cbc-b1dd-70f09d09de31",
   "metadata": {},
   "outputs": [],
   "source": []
  },
  {
   "cell_type": "code",
   "execution_count": null,
   "id": "c517fa1f-4611-4539-9027-8ca6c0f0c886",
   "metadata": {},
   "outputs": [],
   "source": []
  },
  {
   "cell_type": "code",
   "execution_count": null,
   "id": "ed6d6df4-9f1d-4804-906b-1108336b35ee",
   "metadata": {},
   "outputs": [],
   "source": []
  },
  {
   "cell_type": "code",
   "execution_count": null,
   "id": "ec0a4f2d-bb8b-4f2d-8fa3-31ba52b42f9c",
   "metadata": {},
   "outputs": [],
   "source": []
  },
  {
   "cell_type": "code",
   "execution_count": null,
   "id": "c6343304-5d22-4466-9bdb-fe944ef9eff6",
   "metadata": {},
   "outputs": [],
   "source": []
  },
  {
   "cell_type": "code",
   "execution_count": null,
   "id": "f61961a2-574f-40a4-833c-0f75bb5e5725",
   "metadata": {},
   "outputs": [],
   "source": []
  },
  {
   "cell_type": "code",
   "execution_count": null,
   "id": "aaca6c74-6535-4631-be03-acebeea8fe19",
   "metadata": {},
   "outputs": [],
   "source": []
  },
  {
   "cell_type": "code",
   "execution_count": null,
   "id": "6c057b4b-c154-45ce-83b0-02be1cdc6068",
   "metadata": {},
   "outputs": [],
   "source": []
  },
  {
   "cell_type": "code",
   "execution_count": null,
   "id": "c98d9d37-b27d-402d-9912-8d48b495ec13",
   "metadata": {},
   "outputs": [],
   "source": []
  }
 ],
 "metadata": {
  "kernelspec": {
   "display_name": "Python 3 (ipykernel)",
   "language": "python",
   "name": "python3"
  },
  "language_info": {
   "codemirror_mode": {
    "name": "ipython",
    "version": 3
   },
   "file_extension": ".py",
   "mimetype": "text/x-python",
   "name": "python",
   "nbconvert_exporter": "python",
   "pygments_lexer": "ipython3",
   "version": "3.10.9"
  }
 },
 "nbformat": 4,
 "nbformat_minor": 5
}
