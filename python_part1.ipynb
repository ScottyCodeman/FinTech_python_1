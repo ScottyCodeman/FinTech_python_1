{
 "cells": [
  {
   "cell_type": "code",
   "execution_count": 20,
   "id": "23f9848d-24dc-4df3-88a5-bdbf820b911a",
   "metadata": {},
   "outputs": [],
   "source": [
    "#these are our clts\n",
    "client_id = [0,1,2,3,4] #list\n",
    "client_list = ['Gandalf','Han solo','Baby Yoda', 'Blade Runner', 'Harry Potter']\n",
    "client_age = [850, 35, 1, -20, 15]\n",
    "client_wizard_status = [True,False,False,False,True]"
   ]
  },
  {
   "cell_type": "code",
   "execution_count": 13,
   "id": "eb490301-9e20-4c9c-80d2-651702106cea",
   "metadata": {},
   "outputs": [
    {
     "name": "stdout",
     "output_type": "stream",
     "text": [
      "your number is 1\n"
     ]
    }
   ],
   "source": [
    "import random\n",
    "num_list = [1,2,3,4]\n",
    "randnum = random.choice(num_list)\n",
    "print(\"your number is\", randnum)"
   ]
  },
  {
   "cell_type": "code",
   "execution_count": 14,
   "id": "448763e0-c991-4288-9b6d-d241c1f7e741",
   "metadata": {},
   "outputs": [
    {
     "name": "stdin",
     "output_type": "stream",
     "text": [
      "what is 4 times 4? 12\n"
     ]
    }
   ],
   "source": [
    "answer = input(\"what is 4 times 4?\")\n"
   ]
  },
  {
   "cell_type": "code",
   "execution_count": null,
   "id": "0bbd82ce-070a-419a-a99b-e8cff7e02a8f",
   "metadata": {},
   "outputs": [],
   "source": [
    "for word in \"today we learnt python\":\n",
    "    print(range(word))"
   ]
  },
  {
   "cell_type": "code",
   "execution_count": 27,
   "id": "232232bb-064c-44ac-966b-968d3bba1fc9",
   "metadata": {},
   "outputs": [
    {
     "name": "stdout",
     "output_type": "stream",
     "text": [
      "Gandalf, We will connect you to a middle earth financal advisor\n",
      "Han solo, you should invest 50% in growth stocks, 50% in dividend stocks\n",
      "Baby Yoda, you should invest 95% in stocks, 5% in bitcoin, which will be the currency of Galaxy\n",
      "Blade Runner, you are not born yet, but we have you covered. You are on waiting list\n",
      "Harry Potter, you should invest 95% in stocks, 5% in bitcoin, which will be the currency of Galaxy\n"
     ]
    }
   ],
   "source": [
    "for clt_id in client_id:\n",
    "\n",
    "    name = client_list[clt_id]\n",
    "    age = client_age[clt_id]\n",
    "    wizard_status = client_wizard_status[clt_id]\n",
    "    if age <= 0:\n",
    "        print(f\"{name}, you are not born yet, but we have you covered. You are on waiting list\")\n",
    "    elif age > 0 and age < 30:\n",
    "        print(f\"{name}, you should invest 95% in stocks, 5% in bitcoin, which will be the currency of Galaxy\")\n",
    "    elif age >= 30 and age < 100: \n",
    "        print(f\"{name}, you should invest 50% in growth stocks, 50% in dividend stocks\")\n",
    "    elif age >= 100:\n",
    "        if age == 850 and wizard_status:\n",
    "            print(f\"{name}, We will connect you to a middle earth financal advisor\")\n",
    "        else:\n",
    "            print(\"you should keep 50% in cash, 20% in stocks, 30% in GIC\")"
   ]
  },
  {
   "cell_type": "code",
   "execution_count": 43,
   "id": "b4e0f23c-bb59-40b4-af1d-e37da9068072",
   "metadata": {},
   "outputs": [
    {
     "ename": "SyntaxError",
     "evalue": "unmatched ')' (3602900248.py, line 7)",
     "output_type": "error",
     "traceback": [
      "\u001b[1;36m  Cell \u001b[1;32mIn[43], line 7\u001b[1;36m\u001b[0m\n\u001b[1;33m    print(set(stock_prices_close) - (set(stock_prices_open))/ stock_prices_open))\u001b[0m\n\u001b[1;37m                                                                                ^\u001b[0m\n\u001b[1;31mSyntaxError\u001b[0m\u001b[1;31m:\u001b[0m unmatched ')'\n"
     ]
    }
   ],
   "source": [
    "stock_ids = [0,1,2,3]\n",
    "stock_lists = ['apple','amazon','tesla','coinbase']\n",
    "stock_prices_open = [100,150,330,50]\n",
    "stock_prices_close = [101,148,330,55]\n",
    "for stk_id in stock_ids:\n",
    "    if stock_prices_close > stock_prices_open:\n",
    "        print(set(stock_prices_close) - (set(stock_prices_open))/ stock_prices_open))\n",
    "        print(f\"{stock_lists} has gone up points\")\n",
    "    elif stock_prices_open < stock_prices_close:\n",
    "        print(set(stock_prices_open) - (set(stock_prices_close))/ stock_prices_open))\n",
    "        print(f\"{stock_lists} has gone down points\")\n",
    "    else:\n",
    "        print(\"unable to read stock difference\")"
   ]
  },
  {
   "cell_type": "code",
   "execution_count": null,
   "id": "dcaf4773-0e70-4cbc-b1dd-70f09d09de31",
   "metadata": {},
   "outputs": [],
   "source": []
  },
  {
   "cell_type": "code",
   "execution_count": null,
   "id": "c517fa1f-4611-4539-9027-8ca6c0f0c886",
   "metadata": {},
   "outputs": [],
   "source": []
  },
  {
   "cell_type": "code",
   "execution_count": null,
   "id": "ed6d6df4-9f1d-4804-906b-1108336b35ee",
   "metadata": {},
   "outputs": [],
   "source": []
  },
  {
   "cell_type": "code",
   "execution_count": null,
   "id": "ec0a4f2d-bb8b-4f2d-8fa3-31ba52b42f9c",
   "metadata": {},
   "outputs": [],
   "source": []
  },
  {
   "cell_type": "code",
   "execution_count": null,
   "id": "c6343304-5d22-4466-9bdb-fe944ef9eff6",
   "metadata": {},
   "outputs": [],
   "source": []
  },
  {
   "cell_type": "code",
   "execution_count": null,
   "id": "f61961a2-574f-40a4-833c-0f75bb5e5725",
   "metadata": {},
   "outputs": [],
   "source": []
  },
  {
   "cell_type": "code",
   "execution_count": null,
   "id": "aaca6c74-6535-4631-be03-acebeea8fe19",
   "metadata": {},
   "outputs": [],
   "source": []
  },
  {
   "cell_type": "code",
   "execution_count": null,
   "id": "6c057b4b-c154-45ce-83b0-02be1cdc6068",
   "metadata": {},
   "outputs": [],
   "source": []
  },
  {
   "cell_type": "code",
   "execution_count": null,
   "id": "c98d9d37-b27d-402d-9912-8d48b495ec13",
   "metadata": {},
   "outputs": [],
   "source": []
  }
 ],
 "metadata": {
  "kernelspec": {
   "display_name": "Python 3 (ipykernel)",
   "language": "python",
   "name": "python3"
  },
  "language_info": {
   "codemirror_mode": {
    "name": "ipython",
    "version": 3
   },
   "file_extension": ".py",
   "mimetype": "text/x-python",
   "name": "python",
   "nbconvert_exporter": "python",
   "pygments_lexer": "ipython3",
   "version": "3.10.9"
  }
 },
 "nbformat": 4,
 "nbformat_minor": 5
}
