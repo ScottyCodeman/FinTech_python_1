{
 "cells": [
  {
   "cell_type": "markdown",
   "id": "61c40f42-8778-4b6f-8b95-054e41cdc789",
   "metadata": {},
   "source": [
    "# Python part 2"
   ]
  },
  {
   "cell_type": "code",
   "execution_count": null,
   "id": "191a1757-cf6c-4f9e-9415-e7006aa57f4f",
   "metadata": {},
   "outputs": [],
   "source": []
  },
  {
   "cell_type": "code",
   "execution_count": null,
   "id": "1dd9b92c-951f-48c2-8456-b45761449c23",
   "metadata": {},
   "outputs": [],
   "source": []
  },
  {
   "cell_type": "code",
   "execution_count": null,
   "id": "7fa2dbdf-3973-4044-aad5-b56ec4c29831",
   "metadata": {},
   "outputs": [],
   "source": []
  },
  {
   "cell_type": "code",
   "execution_count": null,
   "id": "d91f0717-9cd7-45d5-ab57-b6b6f2b73114",
   "metadata": {},
   "outputs": [],
   "source": []
  },
  {
   "cell_type": "code",
   "execution_count": null,
   "id": "de614e70-2f4e-4c25-9ed8-82ae12100f0d",
   "metadata": {},
   "outputs": [],
   "source": []
  }
 ],
 "metadata": {
  "kernelspec": {
   "display_name": "Python 3 (ipykernel)",
   "language": "python",
   "name": "python3"
  },
  "language_info": {
   "codemirror_mode": {
    "name": "ipython",
    "version": 3
   },
   "file_extension": ".py",
   "mimetype": "text/x-python",
   "name": "python",
   "nbconvert_exporter": "python",
   "pygments_lexer": "ipython3",
   "version": "3.10.9"
  }
 },
 "nbformat": 4,
 "nbformat_minor": 5
}
